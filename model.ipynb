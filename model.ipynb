{
  "nbformat": 4,
  "nbformat_minor": 0,
  "metadata": {
    "colab": {
      "name": "171midterm_model.ipynb",
      "provenance": []
    },
    "kernelspec": {
      "name": "python3",
      "display_name": "Python 3"
    },
    "language_info": {
      "name": "python"
    }
  },
  "cells": [
    {
      "cell_type": "code",
      "execution_count": 3,
      "metadata": {
        "id": "wR9x-IU_mIJz"
      },
      "outputs": [],
      "source": [
        "import numpy as np\n",
        "import tensorflow as tf"
      ]
    },
    {
      "cell_type": "code",
      "source": [
        "npz = np.load('Audiobooks_data_train.npz')\n",
        "\n",
        "train_inputs = npz['inputs'].astype(np.float)\n",
        "train_targets = npz['targets'].astype(np.int)\n",
        "\n",
        "npz = np.load('Audiobooks_data_validation.npz')\n",
        "validation_inputs, validation_targets = npz['inputs'].astype(np.float), npz['targets'].astype(np.int)\n",
        "\n",
        "npz = np.load('Audiobooks_data_test.npz')\n",
        "test_inputs, test_targets = npz['inputs'].astype(np.float), npz['targets'].astype(np.int)\n",
        "\n"
      ],
      "metadata": {
        "id": "DJDkmeLamZsA",
        "colab": {
          "base_uri": "https://localhost:8080/",
          "height": 356
        },
        "outputId": "16def629-3404-4035-ce99-ca51f4d64247"
      },
      "execution_count": 4,
      "outputs": [],
    },
    {
      "cell_type": "code",
      "source": [
        "input_size = 10\n",
        "output_size = 2\n",
        "hidden_layer_size = 10\n",
        "\n",
        "model = tf.keras.Sequential([\n",
        "          tf.keras.layers.Dense(hidden_layer_size, activation='relu'), # 1st hidden layer\n",
        "\n",
        "          tf.keras.layers.Dense(output_size, activation='softmax') # output layer\n",
        "])"
      ],
      "metadata": {
        "id": "3c6teKAEohsO"
      },
      "execution_count": null,
      "outputs": []
    },
    {
      "cell_type": "code",
      "source": [
        "model.compile(optimizer='adam', loss='binary_crossentropy', metrics=['accuracy'])"
      ],
      "metadata": {
        "id": "vDNJqjU46tj3"
      },
      "execution_count": null,
      "outputs": []
    },
    {
      "cell_type": "code",
      "source": [
        "early_stopping = tf.keras.callbacks.EarlyStopping(patience=2)\n",
        "max_epochs = 50\n",
        "# BATCH_SIZE = 5"
      ],
      "metadata": {
        "id": "PT-XUnIfnLzc"
      },
      "execution_count": null,
      "outputs": []
    },
    {
      "cell_type": "code",
      "source": [
        "model.fit(train_inputs,\n",
        "          train_targets,\n",
        "          batch_size=batch_size,\n",
        "          epochs=max_epochs,\n",
        "          callbacks=[early_stopping],\n",
        "          validation_data=(validation_inputs, validation_targets),\n",
        "          validation_steps=10,\n",
        "          verbose = 2\n",
        "          )"
      ],
      "metadata": {
        "id": "mN4ITtxnnRQJ"
      },
      "execution_count": null,
      "outputs": []
    }
  ]
}
